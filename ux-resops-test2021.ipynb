{
 "cells": [
  {
   "cell_type": "markdown",
   "id": "8b68dfb7-17bd-4af6-a3c3-26bee5b69091",
   "metadata": {},
   "source": [
    "# UX Research Dashboard (Dash Plotly PoC 2021)\n",
    "New PoC UX Research dashboard built using Dash Plotly, https://dash.plotly.com/\n",
    "Created by Leslie A. McFarlin, Principal UX Architect @ Wheels"
   ]
  },
  {
   "cell_type": "code",
   "execution_count": 1,
   "id": "216182e3-74a2-45e0-8053-0c5532142e89",
   "metadata": {},
   "outputs": [],
   "source": [
    "## Install jupyter-dash to work in a jupyter notebook\n",
    "# https://dash.plotly.com/installation\n",
    "# Comment out after installation completes to hide installation details\n",
    "# !pip install jupyter-dash"
   ]
  },
  {
   "cell_type": "code",
   "execution_count": 2,
   "id": "dbdd9fd7-3258-4271-bb6b-e9684de06a25",
   "metadata": {},
   "outputs": [],
   "source": [
    "## Begin necessary library imports\n",
    "# Import file and data handling\n",
    "import os\n",
    "import pandas as pd\n",
    "import numpy as np\n",
    "\n",
    "# Import regex\n",
    "import re\n",
    "\n",
    "# Import relevant dash libraries\n",
    "from jupyter_dash import JupyterDash\n",
    "from dash import dcc\n",
    "from dash import dash_table\n",
    "from dash import html\n",
    "from dash.dependencies import Input, Output\n",
    "\n",
    "# Import plotly visualization support\n",
    "import plotly.express as px"
   ]
  },
  {
   "cell_type": "markdown",
   "id": "c76cce57-2a0e-4e66-935a-0ba7605402f2",
   "metadata": {
    "tags": []
   },
   "source": [
    "## Data Handling\n",
    "This step refers to importing the data and cleaning it. The data used is downloaded from the UX Team's UX ResearchOps pages on Sharepoint. It begins by importing a CSV into pandas, creating a dataframe, and then removing any duplicates and tracking missing data."
   ]
  },
  {
   "cell_type": "code",
   "execution_count": 3,
   "id": "63ed923e-f96b-46a3-874b-da7d897b4992",
   "metadata": {},
   "outputs": [],
   "source": [
    "## Find files\n",
    "# Filepath\n",
    "filepath = \"/Users/lesli/OneDrive/Desktop/Python Projects/Plotly Dashboard/data\"\n",
    "\n",
    "# Get list of files\n",
    "files = [file for file in os.listdir(filepath)]"
   ]
  },
  {
   "cell_type": "code",
   "execution_count": 4,
   "id": "7c94ba83-e989-48f3-ab76-c41b2ff8f3d4",
   "metadata": {},
   "outputs": [],
   "source": [
    "## Create dataframe from CSV\n",
    "participants = pd.read_csv(os.path.join(filepath, files[3]))"
   ]
  },
  {
   "cell_type": "markdown",
   "id": "f4854849-b6ae-4c33-8f53-5f317ed23db1",
   "metadata": {},
   "source": [
    "### Participants Dataframe\n",
    "This dataframe has the richest amount of data to draw from, and so this PoC will start here."
   ]
  },
  {
   "cell_type": "code",
   "execution_count": 5,
   "id": "57acacd8-a316-42eb-a09f-017148fd122b",
   "metadata": {},
   "outputs": [
    {
     "data": {
      "text/html": [
       "<div>\n",
       "<style scoped>\n",
       "    .dataframe tbody tr th:only-of-type {\n",
       "        vertical-align: middle;\n",
       "    }\n",
       "\n",
       "    .dataframe tbody tr th {\n",
       "        vertical-align: top;\n",
       "    }\n",
       "\n",
       "    .dataframe thead th {\n",
       "        text-align: right;\n",
       "    }\n",
       "</style>\n",
       "<table border=\"1\" class=\"dataframe\">\n",
       "  <thead>\n",
       "    <tr style=\"text-align: right;\">\n",
       "      <th></th>\n",
       "      <th>Project Code</th>\n",
       "      <th>Type</th>\n",
       "      <th>Year</th>\n",
       "      <th>Month</th>\n",
       "      <th>Product/Feature/Topic</th>\n",
       "    </tr>\n",
       "  </thead>\n",
       "  <tbody>\n",
       "    <tr>\n",
       "      <th>0</th>\n",
       "      <td>SRC-002</td>\n",
       "      <td>Internal</td>\n",
       "      <td>2020</td>\n",
       "      <td>August</td>\n",
       "      <td>Search</td>\n",
       "    </tr>\n",
       "    <tr>\n",
       "      <th>1</th>\n",
       "      <td>SRC-002</td>\n",
       "      <td>Internal</td>\n",
       "      <td>2020</td>\n",
       "      <td>August</td>\n",
       "      <td>Search</td>\n",
       "    </tr>\n",
       "    <tr>\n",
       "      <th>2</th>\n",
       "      <td>SRC-002</td>\n",
       "      <td>External</td>\n",
       "      <td>2020</td>\n",
       "      <td>August</td>\n",
       "      <td>Search</td>\n",
       "    </tr>\n",
       "    <tr>\n",
       "      <th>3</th>\n",
       "      <td>SRC-002</td>\n",
       "      <td>External</td>\n",
       "      <td>2020</td>\n",
       "      <td>August</td>\n",
       "      <td>Search</td>\n",
       "    </tr>\n",
       "    <tr>\n",
       "      <th>4</th>\n",
       "      <td>SRC-002</td>\n",
       "      <td>External</td>\n",
       "      <td>2020</td>\n",
       "      <td>August</td>\n",
       "      <td>Search</td>\n",
       "    </tr>\n",
       "  </tbody>\n",
       "</table>\n",
       "</div>"
      ],
      "text/plain": [
       "  Project Code      Type  Year   Month Product/Feature/Topic\n",
       "0      SRC-002  Internal  2020  August                Search\n",
       "1      SRC-002  Internal  2020  August                Search\n",
       "2      SRC-002  External  2020  August                Search\n",
       "3      SRC-002  External  2020  August                Search\n",
       "4      SRC-002  External  2020  August                Search"
      ]
     },
     "execution_count": 5,
     "metadata": {},
     "output_type": "execute_result"
    }
   ],
   "source": [
    "# Check participants dataframe\n",
    "participants.head(5)"
   ]
  },
  {
   "cell_type": "code",
   "execution_count": 6,
   "id": "4d0a74e3-7ad0-4ae8-a794-ed6781e3acf7",
   "metadata": {},
   "outputs": [
    {
     "name": "stdout",
     "output_type": "stream",
     "text": [
      "{'Project Code': 'project_code', 'Type': 'type', 'Year': 'year', 'Month': 'month', 'Product/Feature/Topic': 'product'}\n"
     ]
    },
    {
     "data": {
      "text/html": [
       "<div>\n",
       "<style scoped>\n",
       "    .dataframe tbody tr th:only-of-type {\n",
       "        vertical-align: middle;\n",
       "    }\n",
       "\n",
       "    .dataframe tbody tr th {\n",
       "        vertical-align: top;\n",
       "    }\n",
       "\n",
       "    .dataframe thead th {\n",
       "        text-align: right;\n",
       "    }\n",
       "</style>\n",
       "<table border=\"1\" class=\"dataframe\">\n",
       "  <thead>\n",
       "    <tr style=\"text-align: right;\">\n",
       "      <th></th>\n",
       "      <th>project_code</th>\n",
       "      <th>type</th>\n",
       "      <th>year</th>\n",
       "      <th>month</th>\n",
       "      <th>product</th>\n",
       "    </tr>\n",
       "  </thead>\n",
       "  <tbody>\n",
       "    <tr>\n",
       "      <th>0</th>\n",
       "      <td>SRC-002</td>\n",
       "      <td>Internal</td>\n",
       "      <td>2020</td>\n",
       "      <td>August</td>\n",
       "      <td>Search</td>\n",
       "    </tr>\n",
       "    <tr>\n",
       "      <th>1</th>\n",
       "      <td>SRC-002</td>\n",
       "      <td>Internal</td>\n",
       "      <td>2020</td>\n",
       "      <td>August</td>\n",
       "      <td>Search</td>\n",
       "    </tr>\n",
       "    <tr>\n",
       "      <th>2</th>\n",
       "      <td>SRC-002</td>\n",
       "      <td>External</td>\n",
       "      <td>2020</td>\n",
       "      <td>August</td>\n",
       "      <td>Search</td>\n",
       "    </tr>\n",
       "    <tr>\n",
       "      <th>3</th>\n",
       "      <td>SRC-002</td>\n",
       "      <td>External</td>\n",
       "      <td>2020</td>\n",
       "      <td>August</td>\n",
       "      <td>Search</td>\n",
       "    </tr>\n",
       "    <tr>\n",
       "      <th>4</th>\n",
       "      <td>SRC-002</td>\n",
       "      <td>External</td>\n",
       "      <td>2020</td>\n",
       "      <td>August</td>\n",
       "      <td>Search</td>\n",
       "    </tr>\n",
       "  </tbody>\n",
       "</table>\n",
       "</div>"
      ],
      "text/plain": [
       "  project_code      type  year   month product\n",
       "0      SRC-002  Internal  2020  August  Search\n",
       "1      SRC-002  Internal  2020  August  Search\n",
       "2      SRC-002  External  2020  August  Search\n",
       "3      SRC-002  External  2020  August  Search\n",
       "4      SRC-002  External  2020  August  Search"
      ]
     },
     "execution_count": 6,
     "metadata": {},
     "output_type": "execute_result"
    }
   ],
   "source": [
    "## Begin cleaning the data\n",
    "# Gather column names into a list and convert to lowercase\n",
    "columns = [c for c in participants.columns]\n",
    "\n",
    "# Maps column names\n",
    "column_map = {}\n",
    "\n",
    "# Iterate through column list\n",
    "for col in columns:\n",
    "    # Set the dictionary key to the actual column name\n",
    "    key = col\n",
    "    # Get the column name from the actual column name to process as the dictionary value\n",
    "    col_name = col\n",
    "    # If there is a space in the column name\n",
    "    if re.search(r\"\\s\", col_name):\n",
    "        # Replace space with underscore\n",
    "        col_name = col_name.replace(\" \", \"_\")\n",
    "    # If there is a non-alphanumeric in the column name\n",
    "    elif re.search(r\"\\W+\", col_name):\n",
    "        # Extract the first part of the string\n",
    "        col_name = re.findall(\"[\\dA-Za-z]*\", col)[0]\n",
    "    # If no space or alphanumeric\n",
    "    else:\n",
    "        # Nothing needed\n",
    "        col_name = col\n",
    "    # Add to mapping dictionary\n",
    "    column_map[key] = col_name.lower()\n",
    "\n",
    "# View new column names\n",
    "print(column_map)\n",
    "    \n",
    "# Rename all columns\n",
    "participants.rename(columns = column_map, inplace = True)\n",
    "\n",
    "# Check dataframe\n",
    "participants.head(5)"
   ]
  },
  {
   "cell_type": "markdown",
   "id": "e544065b-d37d-463f-960c-966b97d486df",
   "metadata": {},
   "source": [
    "## App Initialization\n",
    "This dashboard PoC will run locally in this JupyterLab Notebook. As such, styling will be done locally for the purposes of this PoC. Also, the dashboard items will appear in an iFrame in this notebook. A future PoC will explore running an external, fully styled version of the same data."
   ]
  },
  {
   "cell_type": "code",
   "execution_count": 14,
   "id": "8346eae8-3b55-481f-a4a1-21c2744297f2",
   "metadata": {},
   "outputs": [],
   "source": [
    "## Initialize dashboard applications\n",
    "\n",
    "# Create the app itself\n",
    "app = JupyterDash(__name__)"
   ]
  },
  {
   "cell_type": "code",
   "execution_count": 15,
   "id": "e4a9e188-b67b-469d-8a76-5856f6b5e4b0",
   "metadata": {},
   "outputs": [
    {
     "data": {
      "text/html": [
       "\n",
       "        <iframe\n",
       "            width=\"100%\"\n",
       "            height=\"650\"\n",
       "            src=\"http://127.0.0.1:8040/\"\n",
       "            frameborder=\"0\"\n",
       "            allowfullscreen\n",
       "            \n",
       "        ></iframe>\n",
       "        "
      ],
      "text/plain": [
       "<IPython.lib.display.IFrame at 0x2a44c4a2ee0>"
      ]
     },
     "metadata": {},
     "output_type": "display_data"
    }
   ],
   "source": [
    "## Set up the test app layout\n",
    "app.layout = html.Div([html.H1(\"JupyterDash PoC\", \n",
    "                               style = {\"color\": \"#696868\", \n",
    "                                        \"font-family\": \"'proxima-nova', sans-serif\", \n",
    "                                        \"font-weight\": 700}), # Main Title\n",
    "                       ## FIRST GRAPH SECTION\n",
    "                       html.Label([\"Year\", \n",
    "                                  dcc.Dropdown(id = \"dropdown_year\", \n",
    "                                               clearable = False, \n",
    "                                               value = 2021, \n",
    "                                               options = [{\"label\": \"2021\", \"value\": 2021},\n",
    "                                                          {\"label\": \"2020\", \"value\": 2020}],# Values must match datatype in dataframe\n",
    "                                               style = {\"color\": \"#696868\", \n",
    "                                                        \"font-family\":\"'proxima-nova', sans-serif\", \n",
    "                                                        \"font-size\": \"13px\", \"border\": \"1px solid #929393\", \n",
    "                                                        \"border-radius\": \"4px\"} ) \n",
    "                                  ]), # Defines label and dropdown to filter view of histogram\n",
    "                       dcc.Graph(id = \"histogram_participant_type\"), # Only define figure property here if figure content will not change\n",
    "                       ## SECOND GRAPH SECTION\n",
    "                       html.H2(\"Static Graph Example\", \n",
    "                               style = {\"color\": \"#696868\", \n",
    "                                        \"font-family\": \"'proxima-nova', sans-serif\", \n",
    "                                        \"font-weight\": 700} ), # Section Title\n",
    "                       dcc.Graph(id = \"histogram_product\", \n",
    "                                 figure = px.histogram(participants, \n",
    "                                                       x = \"product\", \n",
    "                                                       title = \"Participant Counts by Research Topic\",\n",
    "                                                       color = \"product\",\n",
    "                                                       color_discrete_sequence=['#56A0D3','#679146', '#EC881D', '#ABB518', '#7C2B83', '#FEC057', '#85CDDB'],\n",
    "                                                       template = \"simple_white\"), \n",
    "                                 style = {\"color\": \"#696868\", \n",
    "                                          \"font-family\": \"'proxima-nova', sans-serif\", \n",
    "                                          \"font-weight\": 300},\n",
    "                                 ), \n",
    "                       ## DYNAMIC DATA TABLE SECTION\n",
    "                       html.H2(\"Dash DataTable Example\",\n",
    "                               style = {\"color\": \"#696868\", \n",
    "                                        \"font-family\": \"'proxima-nova', sans-serif\", \n",
    "                                        \"font-weight\": 700}), # Section Title\n",
    "                       dash_table.DataTable(id = \"datatable_participants_dataframe\",\n",
    "                                            data = participants.to_dict('records'),\n",
    "                                            columns = [{\"name\": \"Project Code\", \"id\": \"project_code\", \"type\": \"text\", \"editable\": False},\n",
    "                                                       {\"name\": \"Year\", \"id\": \"year\", \"type\": \"numeric\", \"editable\": False},\n",
    "                                                       {\"name\": \"Month\", \"id\": \"month\", \"type\": \"text\", \"editable\": False},\n",
    "                                                       {\"name\": \"Research Topic\", \"id\": \"product\", \"type\": \"any\", \"editable\": False}],\n",
    "                                            sort_action = \"native\",\n",
    "                                            filter_action = \"native\",\n",
    "                                            style_cell = {\"color\": \"#696868\", \n",
    "                                                          \"font-family\": \"'proxima-nova', sans-serif\", \n",
    "                                                          \"font-weight\": 300,\n",
    "                                                          \"textAlign\": \"left\",\n",
    "                                                          \"paddingLeft\": \"18px\"},\n",
    "                                            style_header = {\"backgroundColor\": \"#ffffff\",\n",
    "                                                            \"fontWeight\": \"bold\",\n",
    "                                                            \"borderTop\": \"4px solid #d2d2d2\",\n",
    "                                                            \"borderBottom\": \"4px solid #679146\"},\n",
    "                                            style_data_conditional = [{\"if\": {\"row_index\": \"odd\"},\n",
    "                                                                        \"backgroundColor\": \"#f0f0f0\"}],\n",
    "                                            style_as_list_view = True\n",
    "                                            )\n",
    "                        ])\n",
    "\n",
    "## Define callback to update graph\n",
    "# Callback decorator\n",
    "# output is the figure property of the graph\n",
    "# input is from the relevant dropdown's value property\n",
    "@app.callback(Output(component_id = \"histogram_participant_type\", component_property = \"figure\"), \n",
    "              [Input(component_id = \"dropdown_year\", component_property = \"value\")])\n",
    "\n",
    "# Callback function to update the graph based on value of Year dropdown\n",
    "def updateFigure(dropdown_year):\n",
    "    ## Return the histogram with categorical data from type column\n",
    "    # Begin by filtering the dataframe so that only the relevant rows appear\n",
    "    # The filter value to match is the argument passed to this function\n",
    "    participants_year_copy = participants[participants[\"year\"] == dropdown_year]\n",
    "    # Create the updated figure based on the filter above\n",
    "    this_fig = px.histogram(participants_year_copy, x = \"type\", category_orders = dict(type = [\"External\", \"Internal\"]), title = \"Participant Type\", color = \"type\", color_discrete_sequence=['#56A0D3','#679146', '#EC881D', '#ABB518', '#7C2B83', '#FEC057', '#85CDDB'], template = \"simple_white\")\n",
    "    # Return the updated figure\n",
    "    return this_fig\n",
    "\n",
    "## Run the app\n",
    "# mode = \"inline\" will run within the notebook\n",
    "# mode = \"external\" will generate a local URL\n",
    "# mode = \"jupyterlab\" will generate a tab within Jupyter\n",
    "app.run_server(mode=\"inline\", port = 8040)"
   ]
  },
  {
   "cell_type": "code",
   "execution_count": 13,
   "id": "a261f05a-e996-474f-92a5-872e9eecb797",
   "metadata": {},
   "outputs": [],
   "source": [
    "# run_server() with a specified port is because of a known issue where re-running on the same port produces an OSError that says the localhost is already in use.\n",
    "# Uncomment the line below and run this cell if needing to push updates to the histogram above.\n",
    "del app"
   ]
  },
  {
   "cell_type": "code",
   "execution_count": null,
   "id": "0b208e9c-075e-4a16-b090-bd0b29e1359e",
   "metadata": {},
   "outputs": [],
   "source": []
  },
  {
   "cell_type": "code",
   "execution_count": null,
   "id": "12121a9f-8c08-4930-aa6c-cfafc412128f",
   "metadata": {},
   "outputs": [],
   "source": []
  }
 ],
 "metadata": {
  "kernelspec": {
   "display_name": "Python 3 (ipykernel)",
   "language": "python",
   "name": "python3"
  },
  "language_info": {
   "codemirror_mode": {
    "name": "ipython",
    "version": 3
   },
   "file_extension": ".py",
   "mimetype": "text/x-python",
   "name": "python",
   "nbconvert_exporter": "python",
   "pygments_lexer": "ipython3",
   "version": "3.9.7"
  }
 },
 "nbformat": 4,
 "nbformat_minor": 5
}
